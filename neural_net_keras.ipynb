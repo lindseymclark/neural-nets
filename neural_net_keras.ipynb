{
 "cells": [
  {
   "cell_type": "code",
   "execution_count": null,
   "metadata": {},
   "outputs": [],
   "source": [
    "#Create a neural network with Electric Motor Temperature Data\n",
    "#L. Clark\n",
    "#August 2019"
   ]
  },
  {
   "cell_type": "code",
   "execution_count": 1,
   "metadata": {},
   "outputs": [
    {
     "name": "stderr",
     "output_type": "stream",
     "text": [
      "Using TensorFlow backend.\n"
     ]
    }
   ],
   "source": [
    "#import packages\n",
    "import numpy as np\n",
    "import pandas as pd\n",
    "import keras\n",
    "from keras.models import Sequential\n",
    "from keras.layers import Dense"
   ]
  },
  {
   "cell_type": "code",
   "execution_count": 2,
   "metadata": {},
   "outputs": [],
   "source": [
    "#read in the dataset to a pandas dataframe. Can also use numpy loadtxt\n",
    "motor_temp_data = pd.read_csv(\"/Users/lindseyclark/Desktop/pmsm_temperature_data.csv\")"
   ]
  },
  {
   "cell_type": "code",
   "execution_count": 3,
   "metadata": {},
   "outputs": [
    {
     "data": {
      "text/html": [
       "<div>\n",
       "<style scoped>\n",
       "    .dataframe tbody tr th:only-of-type {\n",
       "        vertical-align: middle;\n",
       "    }\n",
       "\n",
       "    .dataframe tbody tr th {\n",
       "        vertical-align: top;\n",
       "    }\n",
       "\n",
       "    .dataframe thead th {\n",
       "        text-align: right;\n",
       "    }\n",
       "</style>\n",
       "<table border=\"1\" class=\"dataframe\">\n",
       "  <thead>\n",
       "    <tr style=\"text-align: right;\">\n",
       "      <th></th>\n",
       "      <th>ambient</th>\n",
       "      <th>coolant</th>\n",
       "      <th>u_d</th>\n",
       "      <th>u_q</th>\n",
       "      <th>motor_speed</th>\n",
       "      <th>torque</th>\n",
       "      <th>i_d</th>\n",
       "      <th>i_q</th>\n",
       "      <th>pm</th>\n",
       "      <th>stator_yoke</th>\n",
       "      <th>stator_tooth</th>\n",
       "      <th>stator_winding</th>\n",
       "      <th>profile_id</th>\n",
       "    </tr>\n",
       "  </thead>\n",
       "  <tbody>\n",
       "    <tr>\n",
       "      <th>count</th>\n",
       "      <td>998070.000000</td>\n",
       "      <td>998070.000000</td>\n",
       "      <td>998070.000000</td>\n",
       "      <td>998070.000000</td>\n",
       "      <td>998070.000000</td>\n",
       "      <td>998070.000000</td>\n",
       "      <td>998070.000000</td>\n",
       "      <td>998070.000000</td>\n",
       "      <td>998070.000000</td>\n",
       "      <td>998070.000000</td>\n",
       "      <td>998070.000000</td>\n",
       "      <td>998070.000000</td>\n",
       "      <td>998070.000000</td>\n",
       "    </tr>\n",
       "    <tr>\n",
       "      <th>mean</th>\n",
       "      <td>-0.003905</td>\n",
       "      <td>0.004723</td>\n",
       "      <td>0.004780</td>\n",
       "      <td>-0.005690</td>\n",
       "      <td>-0.006336</td>\n",
       "      <td>-0.003333</td>\n",
       "      <td>0.006043</td>\n",
       "      <td>-0.003194</td>\n",
       "      <td>-0.004396</td>\n",
       "      <td>0.000609</td>\n",
       "      <td>-0.002208</td>\n",
       "      <td>-0.003935</td>\n",
       "      <td>50.732001</td>\n",
       "    </tr>\n",
       "    <tr>\n",
       "      <th>std</th>\n",
       "      <td>0.993127</td>\n",
       "      <td>1.002423</td>\n",
       "      <td>0.997878</td>\n",
       "      <td>1.002330</td>\n",
       "      <td>1.001229</td>\n",
       "      <td>0.997907</td>\n",
       "      <td>0.998994</td>\n",
       "      <td>0.997912</td>\n",
       "      <td>0.995686</td>\n",
       "      <td>1.001049</td>\n",
       "      <td>0.999597</td>\n",
       "      <td>0.998343</td>\n",
       "      <td>22.073125</td>\n",
       "    </tr>\n",
       "    <tr>\n",
       "      <th>min</th>\n",
       "      <td>-8.573954</td>\n",
       "      <td>-1.429349</td>\n",
       "      <td>-1.655373</td>\n",
       "      <td>-1.861463</td>\n",
       "      <td>-1.371529</td>\n",
       "      <td>-3.345953</td>\n",
       "      <td>-3.245874</td>\n",
       "      <td>-3.341639</td>\n",
       "      <td>-2.631991</td>\n",
       "      <td>-1.834688</td>\n",
       "      <td>-2.066143</td>\n",
       "      <td>-2.019973</td>\n",
       "      <td>4.000000</td>\n",
       "    </tr>\n",
       "    <tr>\n",
       "      <th>25%</th>\n",
       "      <td>-0.599385</td>\n",
       "      <td>-1.037925</td>\n",
       "      <td>-0.826359</td>\n",
       "      <td>-0.927390</td>\n",
       "      <td>-0.951892</td>\n",
       "      <td>-0.266917</td>\n",
       "      <td>-0.756296</td>\n",
       "      <td>-0.257269</td>\n",
       "      <td>-0.672308</td>\n",
       "      <td>-0.747265</td>\n",
       "      <td>-0.761951</td>\n",
       "      <td>-0.725622</td>\n",
       "      <td>32.000000</td>\n",
       "    </tr>\n",
       "    <tr>\n",
       "      <th>50%</th>\n",
       "      <td>0.266157</td>\n",
       "      <td>-0.177187</td>\n",
       "      <td>0.267542</td>\n",
       "      <td>-0.099818</td>\n",
       "      <td>-0.140246</td>\n",
       "      <td>-0.187246</td>\n",
       "      <td>0.213935</td>\n",
       "      <td>-0.190076</td>\n",
       "      <td>0.094367</td>\n",
       "      <td>-0.057226</td>\n",
       "      <td>0.005085</td>\n",
       "      <td>0.006536</td>\n",
       "      <td>56.000000</td>\n",
       "    </tr>\n",
       "    <tr>\n",
       "      <th>75%</th>\n",
       "      <td>0.686675</td>\n",
       "      <td>0.650709</td>\n",
       "      <td>0.358491</td>\n",
       "      <td>0.852625</td>\n",
       "      <td>0.853584</td>\n",
       "      <td>0.547171</td>\n",
       "      <td>1.013975</td>\n",
       "      <td>0.499260</td>\n",
       "      <td>0.680691</td>\n",
       "      <td>0.697344</td>\n",
       "      <td>0.772239</td>\n",
       "      <td>0.725660</td>\n",
       "      <td>68.000000</td>\n",
       "    </tr>\n",
       "    <tr>\n",
       "      <th>max</th>\n",
       "      <td>2.967117</td>\n",
       "      <td>2.649032</td>\n",
       "      <td>2.274734</td>\n",
       "      <td>1.793498</td>\n",
       "      <td>2.024164</td>\n",
       "      <td>3.016971</td>\n",
       "      <td>1.060937</td>\n",
       "      <td>2.914185</td>\n",
       "      <td>2.917456</td>\n",
       "      <td>2.449158</td>\n",
       "      <td>2.326668</td>\n",
       "      <td>2.653781</td>\n",
       "      <td>81.000000</td>\n",
       "    </tr>\n",
       "  </tbody>\n",
       "</table>\n",
       "</div>"
      ],
      "text/plain": [
       "             ambient        coolant            u_d            u_q  \\\n",
       "count  998070.000000  998070.000000  998070.000000  998070.000000   \n",
       "mean       -0.003905       0.004723       0.004780      -0.005690   \n",
       "std         0.993127       1.002423       0.997878       1.002330   \n",
       "min        -8.573954      -1.429349      -1.655373      -1.861463   \n",
       "25%        -0.599385      -1.037925      -0.826359      -0.927390   \n",
       "50%         0.266157      -0.177187       0.267542      -0.099818   \n",
       "75%         0.686675       0.650709       0.358491       0.852625   \n",
       "max         2.967117       2.649032       2.274734       1.793498   \n",
       "\n",
       "         motor_speed         torque            i_d            i_q  \\\n",
       "count  998070.000000  998070.000000  998070.000000  998070.000000   \n",
       "mean       -0.006336      -0.003333       0.006043      -0.003194   \n",
       "std         1.001229       0.997907       0.998994       0.997912   \n",
       "min        -1.371529      -3.345953      -3.245874      -3.341639   \n",
       "25%        -0.951892      -0.266917      -0.756296      -0.257269   \n",
       "50%        -0.140246      -0.187246       0.213935      -0.190076   \n",
       "75%         0.853584       0.547171       1.013975       0.499260   \n",
       "max         2.024164       3.016971       1.060937       2.914185   \n",
       "\n",
       "                  pm    stator_yoke   stator_tooth  stator_winding  \\\n",
       "count  998070.000000  998070.000000  998070.000000   998070.000000   \n",
       "mean       -0.004396       0.000609      -0.002208       -0.003935   \n",
       "std         0.995686       1.001049       0.999597        0.998343   \n",
       "min        -2.631991      -1.834688      -2.066143       -2.019973   \n",
       "25%        -0.672308      -0.747265      -0.761951       -0.725622   \n",
       "50%         0.094367      -0.057226       0.005085        0.006536   \n",
       "75%         0.680691       0.697344       0.772239        0.725660   \n",
       "max         2.917456       2.449158       2.326668        2.653781   \n",
       "\n",
       "          profile_id  \n",
       "count  998070.000000  \n",
       "mean       50.732001  \n",
       "std        22.073125  \n",
       "min         4.000000  \n",
       "25%        32.000000  \n",
       "50%        56.000000  \n",
       "75%        68.000000  \n",
       "max        81.000000  "
      ]
     },
     "execution_count": 3,
     "metadata": {},
     "output_type": "execute_result"
    }
   ],
   "source": [
    "#describe the dataset\n",
    "motor_temp_data.describe()"
   ]
  },
  {
   "cell_type": "code",
   "execution_count": 4,
   "metadata": {},
   "outputs": [
    {
     "data": {
      "text/html": [
       "<div>\n",
       "<style scoped>\n",
       "    .dataframe tbody tr th:only-of-type {\n",
       "        vertical-align: middle;\n",
       "    }\n",
       "\n",
       "    .dataframe tbody tr th {\n",
       "        vertical-align: top;\n",
       "    }\n",
       "\n",
       "    .dataframe thead th {\n",
       "        text-align: right;\n",
       "    }\n",
       "</style>\n",
       "<table border=\"1\" class=\"dataframe\">\n",
       "  <thead>\n",
       "    <tr style=\"text-align: right;\">\n",
       "      <th></th>\n",
       "      <th>ambient</th>\n",
       "      <th>coolant</th>\n",
       "      <th>u_d</th>\n",
       "      <th>u_q</th>\n",
       "      <th>motor_speed</th>\n",
       "      <th>torque</th>\n",
       "      <th>i_d</th>\n",
       "      <th>i_q</th>\n",
       "      <th>pm</th>\n",
       "      <th>stator_yoke</th>\n",
       "      <th>stator_tooth</th>\n",
       "      <th>stator_winding</th>\n",
       "      <th>profile_id</th>\n",
       "    </tr>\n",
       "  </thead>\n",
       "  <tbody>\n",
       "    <tr>\n",
       "      <th>0</th>\n",
       "      <td>-0.752143</td>\n",
       "      <td>-1.118446</td>\n",
       "      <td>0.327935</td>\n",
       "      <td>-1.297858</td>\n",
       "      <td>-1.222428</td>\n",
       "      <td>-0.250182</td>\n",
       "      <td>1.029572</td>\n",
       "      <td>-0.245860</td>\n",
       "      <td>-2.522071</td>\n",
       "      <td>-1.831422</td>\n",
       "      <td>-2.066143</td>\n",
       "      <td>-2.018033</td>\n",
       "      <td>4</td>\n",
       "    </tr>\n",
       "    <tr>\n",
       "      <th>1</th>\n",
       "      <td>-0.771263</td>\n",
       "      <td>-1.117021</td>\n",
       "      <td>0.329665</td>\n",
       "      <td>-1.297686</td>\n",
       "      <td>-1.222429</td>\n",
       "      <td>-0.249133</td>\n",
       "      <td>1.029509</td>\n",
       "      <td>-0.245832</td>\n",
       "      <td>-2.522418</td>\n",
       "      <td>-1.830969</td>\n",
       "      <td>-2.064859</td>\n",
       "      <td>-2.017631</td>\n",
       "      <td>4</td>\n",
       "    </tr>\n",
       "    <tr>\n",
       "      <th>2</th>\n",
       "      <td>-0.782892</td>\n",
       "      <td>-1.116681</td>\n",
       "      <td>0.332771</td>\n",
       "      <td>-1.301822</td>\n",
       "      <td>-1.222428</td>\n",
       "      <td>-0.249431</td>\n",
       "      <td>1.029448</td>\n",
       "      <td>-0.245818</td>\n",
       "      <td>-2.522673</td>\n",
       "      <td>-1.830400</td>\n",
       "      <td>-2.064073</td>\n",
       "      <td>-2.017343</td>\n",
       "      <td>4</td>\n",
       "    </tr>\n",
       "    <tr>\n",
       "      <th>3</th>\n",
       "      <td>-0.780935</td>\n",
       "      <td>-1.116764</td>\n",
       "      <td>0.333700</td>\n",
       "      <td>-1.301852</td>\n",
       "      <td>-1.222430</td>\n",
       "      <td>-0.248636</td>\n",
       "      <td>1.032845</td>\n",
       "      <td>-0.246955</td>\n",
       "      <td>-2.521639</td>\n",
       "      <td>-1.830333</td>\n",
       "      <td>-2.063137</td>\n",
       "      <td>-2.017632</td>\n",
       "      <td>4</td>\n",
       "    </tr>\n",
       "    <tr>\n",
       "      <th>4</th>\n",
       "      <td>-0.774043</td>\n",
       "      <td>-1.116775</td>\n",
       "      <td>0.335206</td>\n",
       "      <td>-1.303118</td>\n",
       "      <td>-1.222429</td>\n",
       "      <td>-0.248701</td>\n",
       "      <td>1.031807</td>\n",
       "      <td>-0.246610</td>\n",
       "      <td>-2.521900</td>\n",
       "      <td>-1.830498</td>\n",
       "      <td>-2.062795</td>\n",
       "      <td>-2.018145</td>\n",
       "      <td>4</td>\n",
       "    </tr>\n",
       "  </tbody>\n",
       "</table>\n",
       "</div>"
      ],
      "text/plain": [
       "    ambient   coolant       u_d       u_q  motor_speed    torque       i_d  \\\n",
       "0 -0.752143 -1.118446  0.327935 -1.297858    -1.222428 -0.250182  1.029572   \n",
       "1 -0.771263 -1.117021  0.329665 -1.297686    -1.222429 -0.249133  1.029509   \n",
       "2 -0.782892 -1.116681  0.332771 -1.301822    -1.222428 -0.249431  1.029448   \n",
       "3 -0.780935 -1.116764  0.333700 -1.301852    -1.222430 -0.248636  1.032845   \n",
       "4 -0.774043 -1.116775  0.335206 -1.303118    -1.222429 -0.248701  1.031807   \n",
       "\n",
       "        i_q        pm  stator_yoke  stator_tooth  stator_winding  profile_id  \n",
       "0 -0.245860 -2.522071    -1.831422     -2.066143       -2.018033           4  \n",
       "1 -0.245832 -2.522418    -1.830969     -2.064859       -2.017631           4  \n",
       "2 -0.245818 -2.522673    -1.830400     -2.064073       -2.017343           4  \n",
       "3 -0.246955 -2.521639    -1.830333     -2.063137       -2.017632           4  \n",
       "4 -0.246610 -2.521900    -1.830498     -2.062795       -2.018145           4  "
      ]
     },
     "execution_count": 4,
     "metadata": {},
     "output_type": "execute_result"
    }
   ],
   "source": [
    "#describe the dataset\n",
    "motor_temp_data.head()"
   ]
  },
  {
   "cell_type": "code",
   "execution_count": 5,
   "metadata": {},
   "outputs": [],
   "source": [
    "#parse the dataset using the .loc method to get only one instance of motor temperature. \n",
    "#reset the index.\n",
    "motor_temp_data_profile10 = motor_temp_data.loc[motor_temp_data['profile_id'] == 10].reset_index()\n",
    "motor_temp_data_profile10 = motor_temp_data_profile10.drop(['index'], axis = 1)"
   ]
  },
  {
   "cell_type": "code",
   "execution_count": 7,
   "metadata": {},
   "outputs": [],
   "source": [
    "#create the output array.\n",
    "#decided here not to use only the data from 'profile_id == 10', but the entire dataset\n",
    "output1 = motor_temp_data[\"pm\"].tolist()\n",
    "output = np.asarray(output1)"
   ]
  },
  {
   "cell_type": "code",
   "execution_count": 9,
   "metadata": {},
   "outputs": [
    {
     "name": "stderr",
     "output_type": "stream",
     "text": [
      "/Users/lindseyclark/Documents/neural_net_projects/test/lib/python2.7/site-packages/ipykernel_launcher.py:3: FutureWarning: Method .as_matrix will be removed in a future version. Use .values instead.\n",
      "  This is separate from the ipykernel package so we can avoid doing imports until\n"
     ]
    }
   ],
   "source": [
    "#create the features array\n",
    "features_temp1 = motor_temp_data.drop(['pm'], axis = 1)\n",
    "features = features_temp1.as_matrix()"
   ]
  },
  {
   "cell_type": "code",
   "execution_count": 10,
   "metadata": {},
   "outputs": [
    {
     "name": "stderr",
     "output_type": "stream",
     "text": [
      "WARNING: Logging before flag parsing goes to stderr.\n",
      "W0822 18:49:48.150355 4670023104 deprecation_wrapper.py:119] From /Users/lindseyclark/Documents/neural_net_projects/test/lib/python2.7/site-packages/keras/backend/tensorflow_backend.py:74: The name tf.get_default_graph is deprecated. Please use tf.compat.v1.get_default_graph instead.\n",
      "\n",
      "W0822 18:49:48.182775 4670023104 deprecation_wrapper.py:119] From /Users/lindseyclark/Documents/neural_net_projects/test/lib/python2.7/site-packages/keras/backend/tensorflow_backend.py:517: The name tf.placeholder is deprecated. Please use tf.compat.v1.placeholder instead.\n",
      "\n",
      "W0822 18:49:48.228533 4670023104 deprecation_wrapper.py:119] From /Users/lindseyclark/Documents/neural_net_projects/test/lib/python2.7/site-packages/keras/backend/tensorflow_backend.py:4138: The name tf.random_uniform is deprecated. Please use tf.random.uniform instead.\n",
      "\n"
     ]
    }
   ],
   "source": [
    "#define the keras model\n",
    "model = Sequential()\n",
    "model.add(Dense(12, input_dim=12, activation='relu'))\n",
    "model.add(Dense(8, activation='relu'))\n",
    "model.add(Dense(1, activation='softmax')) "
   ]
  },
  {
   "cell_type": "code",
   "execution_count": 11,
   "metadata": {},
   "outputs": [
    {
     "name": "stderr",
     "output_type": "stream",
     "text": [
      "W0822 18:51:33.640157 4670023104 deprecation_wrapper.py:119] From /Users/lindseyclark/Documents/neural_net_projects/test/lib/python2.7/site-packages/keras/optimizers.py:790: The name tf.train.Optimizer is deprecated. Please use tf.compat.v1.train.Optimizer instead.\n",
      "\n"
     ]
    }
   ],
   "source": [
    "#compile the keras model\n",
    "#compiling uses tensorflow to manage compute resources in the background\n",
    "#The loss is calculated using loss function by matching the target(actual) value and predicted value by a \n",
    "#neural network. Then we use the gradient descent method to optimize the weights of the network such that \n",
    "#the loss is minimized. This is how we train a neural network.\n",
    "model.compile(loss='mean_squared_error', optimizer='adam', metrics=['accuracy'])"
   ]
  },
  {
   "cell_type": "code",
   "execution_count": 12,
   "metadata": {
    "scrolled": true
   },
   "outputs": [
    {
     "name": "stderr",
     "output_type": "stream",
     "text": [
      "W0822 18:52:19.229969 4670023104 deprecation_wrapper.py:119] From /Users/lindseyclark/Documents/neural_net_projects/test/lib/python2.7/site-packages/keras/backend/tensorflow_backend.py:986: The name tf.assign_add is deprecated. Please use tf.compat.v1.assign_add instead.\n",
      "\n",
      "W0822 18:52:19.297816 4670023104 deprecation_wrapper.py:119] From /Users/lindseyclark/Documents/neural_net_projects/test/lib/python2.7/site-packages/keras/backend/tensorflow_backend.py:973: The name tf.assign is deprecated. Please use tf.compat.v1.assign instead.\n",
      "\n"
     ]
    },
    {
     "name": "stdout",
     "output_type": "stream",
     "text": [
      "Epoch 1/10\n",
      "998070/998070 [==============================] - 67s 67us/step - loss: 2.0002 - acc: 0.0000e+00\n",
      "Epoch 2/10\n",
      "998070/998070 [==============================] - 66s 66us/step - loss: 2.0002 - acc: 0.0000e+00 6s - loss: 2.0005  - ETA: 3s - loss: 2.000 - ETA: - ETA: 0s - loss: 2.0007 - acc\n",
      "Epoch 3/10\n",
      "998070/998070 [==============================] - 66s 67us/step - loss: 2.0002 - acc: 0.0000e+00\n",
      "Epoch 4/10\n",
      "998070/998070 [==============================] - 64s 64us/step - loss: 2.0002 - acc: 0.0000e+00 26s - loss: 2.0010 - acc - ETA: 25s - loss: 2.0012 - acc - ETA: 25s - loss: 2.0017 - acc: 0. - ETA: 25s - ETA: 9s - loss: 2.0005 -  - ETA: 8s - loss: 2.0006 - acc: 0.0000e+0 - ETA: 8s - loss - E - ETA: 2s - l - ETA: 1s - lo\n",
      "Epoch 5/10\n",
      "998070/998070 [==============================] - 65s 65us/step - loss: 2.0002 - acc: 0.0000e+00ETA: 32s - loss - ETA: 30s - loss: 1.9970 - - ETA: 29s - loss: 1.9967 - ETA:  - ETA: 27s - loss - ETA: 26 - ETA: 26s - loss: 1.9954 - acc: 0.0000e+ - ETA: 26s  - - ETA: 24s - loss: 1.9956 - acc - ETA: 23s - loss: 1.9962 - acc: 0.00 - ETA: 23s - loss: 1. - ETA: 23s - loss: 1.99 - ETA: 22s - loss: 1.9957 - acc: 0. - ETA: 21s - loss: 1.9960 - ETA: 21s - loss: 1.9963 - acc: 0.0000e+ - ETA:  - ETA: 20s -  - ETA: 19s - loss: 1. - ETA: 18s - loss: 1.9970 - - ETA: 18s -  - ETA: 17s - loss: 1.9970 - ETA: 17s - loss: 1.9966 - acc: 0.0000e+ - ETA: 17 - ETA: 15s - loss: 1.9966 - acc: 0. - ETA: 12s - loss: 1.9973 - acc - ETA: 12s - loss: 1.9975 - acc:  - ETA: 8s - loss: 1.9988 - acc: 0 - ETA: 7s - loss: 1.9987 - acc: 0.0000 - ETA: 7s - loss: 1.9987 - acc: 0.0000e+ - ETA: 7s - loss: 1.9988 - acc: 0.0000e - ETA: 7s - loss: 1.9987 - acc: 0.0000e+0 - ETA: 7s - loss: 1.9987  - ETA: 6s - loss: 1.9985 - ac - ETA: 5s - loss: 1.9988 - acc: 0.0 - ETA: 5s - loss: 1.9991 - acc: 0.0000e - ETA: 5s - loss: 1.9991 - acc: 0.0000e - ETA: 5s - loss: 1.9991 - ac - ETA: 4s - loss: 1.9990 - acc: 0.000 - ETA: 4s - loss: 1.9990 - acc: 0.0000e+ - ETA: 4s - loss: 1.9989 - acc: 0.0000e+0 - ETA: 4s - loss: 1.9989 - acc - ETA: 3s - loss: 1.9990 - acc: - ETA: 3s - loss - ETA: 1s - loss - ETA: 0s - loss: 2.0003 - acc: 0\n",
      "Epoch 6/10\n",
      "998070/998070 [==============================] - 66s 66us/step - loss: 2.0002 - acc: 0.0000e+00A: - ETA: 56s - loss: 2.0083 - ETA: 55s - loss: 2.0093 - acc: 0. - ETA: 47s - loss: 2.0065 - acc: 0.0000e+ - ETA: 47s - loss: 2.0061 - acc - ETA: 47s - loss: 2.0070 - a - ETA: 47s - loss - ETA: 46s - loss: 2.0079 - acc - ETA: 46s - loss - - ETA:  - ETA: 42s - loss: 2.0063 - acc: 0.0000 - E - ETA: 41s - loss: 2.0072 - acc: 0.0000e+ - ETA: 41s - loss: 2.0071 - ETA: 41s - loss: 2.0057 - acc: 0. - ETA: 40s - loss: 2.0059 - acc: 0.00 - ETA: 40s - loss: 2.0058 - acc: 0.0000e+ - ETA: 40 - ETA: 39s - loss:  - ETA - ETA: 38s - loss: 2.0039 - acc - ETA: 35s - loss: 2.0034 - acc:  - ETA: 35s - loss: 2.0039 - acc: 0. - ETA: 35s - loss: 2.0035 - acc: 0.00 - ETA: 35s - loss: 2.0037 - acc: 0.00 - ETA: 35s - loss: 2.0033 - a - ETA: 34s - lo - ETA: 34s - loss: 2.0037 - - ETA: 33s - loss: 2. - ETA: 32s - loss: 2.0038 - ETA: 27s - loss: 2.0026 - acc: 0. - ETA: 27s - loss: 2.0026 - acc: 0.0000 - ETA: 27s - loss:  - ETA: 26s - loss: 2.0026 - acc: 0. - E - ETA: 9s - loss: 2.0017 - acc: 0.000 - ETA: 9s - loss: 2.0012 - acc: 0.0000 - ETA: 9s - loss: 2.0009 - acc: 0.0000 - ETA: 9s - loss: 2.0009 - acc: 0.0000e - ETA: 8s - loss: 2.0009 - acc: 0.0000e+0 - ETA: 8s - loss: 2.0009 - ETA: 5s - loss: 1.9999 - acc: 0.0 - ETA: 5s - loss: 1.9999 - a - ETA: 4s - loss: 2.0003 - acc: 0.0000e+ - ETA: 4s - loss: 2.0004 - acc: 0.0 - ETA: 4s - loss: 2.0001 - acc: 0.0 - ETA: 4s - loss: 1.9999 - - ETA: 3s - loss: 1.9 - ETA: 2s - loss: 1.9994 - acc: 0.000 - ETA: 1s - loss: 1.9993 - acc: 0 - ETA: 1s - loss:  - ETA: 0s - loss: 2.0000 - acc: 0.0\n",
      "Epoch 7/10\n",
      "998070/998070 [==============================] - 66s 66us/step - loss: 2.0002 - acc: 0.0000e+00A:  - ETA: 1:03 - loss: 1.9821 - acc: 0.00 - ETA: 1:02 - loss: 1.9828 - acc: 0.0000 - ETA: 1:02 - loss: 1.9864 - acc:  - ETA: 1:02 - loss: 1.9858 - acc: 0.0 - ETA: 1:01 - loss: 1 - ETA: 1:00 - loss: 1.9859 - acc: 0.0000e+0 - ETA: 1:00 - l - E - ETA: 47s - loss: 1.9971 - E - ETA: 35s - loss: 1.9977 - acc: 0. - ETA: 35s - loss: 1.9982 - a - ETA: 26s - loss: 1.9991 - acc: 0.0000e+ - ETA: 26s - loss: 1.9989 - acc: 0.0000 - ETA: 26s - loss: 1.9989 - ETA: 25s -  - ETA - ETA: 10s - loss: 2.0001 - a - ETA: 10s - loss: 1.9998 - - ETA: 8s - loss: 1.9995 - acc: 0.00 - ETA: 7s - loss: 1.9999 - - ETA: 7s - loss: 2.0003 - acc - ETA: 6s - loss:  - ETA: 5s - loss: 2.0006 - acc: 0 - ETA: 4s - loss: 2.0006 - acc:  - ETA: 4s - loss: 2.0006 - acc: 0.0000e+ - ETA: 4s - loss: 2.0006 - acc: - ETA: 3s - loss: 2.0004 - acc: 0.000 - ETA: 3s - loss: 2.0007 -  - ETA: 2s - loss: 2.0003 - acc: 0.0000e+0 - ETA: 2s - loss: 2.0002 - acc: 0.000 - ETA: 2s - loss: 1.9999 - acc: 0.0000 - ETA: 2s - loss: 2.0000 - acc - ETA: 1s - loss: 2.0002 - acc: 0.0 - ETA: 1s - loss: 2.0002 - acc: 0.0000e - ETA: 0s - loss: 2.0002 - acc - ETA: 0s - loss: 2.0003 - acc: 0.000 - ETA: 0s - loss: 2.0004 - acc: 0.0000e\n",
      "Epoch 8/10\n",
      "998070/998070 [==============================] - 66s 66us/step - loss: 2.0002 - acc: 0.0000e+00A: 1:13 - loss: 1.9946 - acc: 0.0000 - ETA: 1:10 - loss: 2.0361 - acc: 0.0000e - ETA: 1:10 - loss: 2.0237 - acc: 0.0000e+ - ETA: 1:09 - loss: 2.01 - ETA: 1:05 - loss: 2.0144 - acc: 0.0000 - ETA: 1:05 - loss: 2.0025 - acc: - ETA: 1:04 - loss: 2.0051 - - ETA: 1:03 - loss: 2.0058 - acc: 0.0000e+ - ETA: 1:03 - loss: 2.0063 - acc: 0.0000 - ETA: 1:03 - loss: 2.0112 - acc: 0.0000e+ - ETA: 1:02 - loss: 2.0115 - a - ETA: 1:02 - loss: 2.0118 - acc: 0. - ETA: 1:01 - loss: 2.0129 - acc: 0.0000e+ - ETA: 1:01 - loss: 2.0109 - a - ETA: 1:00 - loss: 2.0088 - acc: 0.0000e+ - ETA: 1:0 - ETA: 58s - loss: 2.0026 - acc: 0.0000e+ - ETA: 58s - loss:  - ETA: 57s - loss: 2.0035 - acc:  - ETA: 57s - loss: 2.00 - ETA: 56s - lo - ETA: 55s - loss: 2.0018 - a - ETA: 55s - loss: 2.00 - E - ETA: 54s - lo - ETA: 51 - ETA: 50s - loss: 1.99 - ETA: 50s - loss: 1.9992 - acc: 0.0000 - ETA: 49s - loss: 1.9994 - acc: 0.00 - ETA: 49s - loss: 1.9992 - acc - ETA: 49 - ETA: 45s - loss: 2.0019 - acc: 0.0000e+ - ETA: 45s - loss: 2.0016 - acc: 0. - ETA: 44s - loss: 2.0014 - acc: 0.00 - ETA: 44s -  - ETA: 37s - loss: 2.0022 - ETA:  - ETA: 34s - loss: 2.0046 - acc: 0.0000 - ETA: 34s - loss: 2.0048 - acc: 0.0000 - ETA: 34s - loss: 2. - ETA: 24s - loss: 2.0019 - acc - E - E - ETA: 17s - loss:  - ETA: 16s - loss: 2.0014 - acc: 0. - ETA: 16s - loss: 2.0016 - acc:  - ETA: 16s - loss: 2.0017 - acc: 0.0000 - E - ETA: 14s - loss: 2.0020 - acc:  - ETA: 13s - loss: 2.0019 - acc: 0.00 - ETA: 13s - loss: 2.0017 - acc: 0.0 - ETA: 8s - loss: 2.0001 -  - ETA: 7s - loss: 2.000 - ETA: 6s - loss: - ETA: 5s - loss: - ETA: 3s - loss: 2.0004 - acc: 0. - ETA: 3s - ETA: 1s - loss: 2.000 - ETA: 0s - loss: 2.0005 - ac - ETA: 0s - loss: 2.0001 - acc: 0.0000e\n",
      "Epoch 9/10\n",
      "998070/998070 [==============================] - 65s 65us/step - loss: 2.0002 - acc: 0.0000e+00 52s - loss: 2.0048 - acc: 0.0000 - ETA: 52s - loss - ETA: 48s - loss: 2.0012 - acc: 0.0000e+ - ETA: 48s  - ETA: 47s - loss: 2.0031 - acc: 0. - ETA: 47s - loss: 2.0036 - acc:  - ETA: 47s - loss: 2.0034 - acc: 0.00 - ETA: 47s - loss: 2.0032 - acc: 0.0000e+ - ETA: 47s - loss: 2.0030 - ETA: 46s - lo - ETA: 41 - ETA: 40s  - ETA: 39s - loss: 2.00 - ETA: 38s - loss: 2.0028 - ETA: 36s - loss: 2.0019 - acc - ETA: 36s - loss: 2.0013 - - ETA: 35s - loss: 2.0020 - acc: 0.0000 - ETA: 35s - loss: 2.0021 - acc - ETA: 35s - loss: 2.0020 - acc:  - ETA: 35s - loss: 2.0016 - acc: 0.0000e+ - ETA: 34s - loss - ETA: 27s - loss: 1.9984 - acc - ETA: 27s - loss: 1.9986 - - ETA: 27s - loss: 1. - ETA: 26s - loss: 1.9991 - acc: 0.0000e+ - ETA: 26s - loss: 1.99 - ETA - ETA: 10s - lo - ETA: 9s - loss: 1.9994 - acc: 0. - ETA: 9s - loss: 1.9994 -  - ETA: 8s \n",
      "Epoch 10/10\n",
      "998070/998070 [==============================] - 65s 65us/step - loss: 2.0002 - acc: 0.0000e+00 3\n"
     ]
    },
    {
     "data": {
      "text/plain": [
       "<keras.callbacks.History at 0x134557e10>"
      ]
     },
     "execution_count": 12,
     "metadata": {},
     "output_type": "execute_result"
    }
   ],
   "source": [
    "#fit the keras model on the dataset\n",
    "model.fit(features, output, epochs=10, batch_size=10)"
   ]
  },
  {
   "cell_type": "code",
   "execution_count": 13,
   "metadata": {},
   "outputs": [
    {
     "name": "stdout",
     "output_type": "stream",
     "text": [
      "998070/998070 [==============================] - 7s 7us/step\n",
      "Accuracy: 0.00\n"
     ]
    }
   ],
   "source": [
    "#evaluate the model\n",
    "_,accuracy = model.evaluate(features, output)\n",
    "print('Accuracy: %.2f' % (accuracy*100))"
   ]
  },
  {
   "cell_type": "code",
   "execution_count": 14,
   "metadata": {},
   "outputs": [
    {
     "data": {
      "text/plain": [
       "array([[1.],\n",
       "       [1.],\n",
       "       [1.],\n",
       "       ...,\n",
       "       [1.],\n",
       "       [1.],\n",
       "       [1.]], dtype=float32)"
      ]
     },
     "execution_count": 14,
     "metadata": {},
     "output_type": "execute_result"
    }
   ],
   "source": [
    "model.predict(features)"
   ]
  }
 ],
 "metadata": {
  "kernelspec": {
   "display_name": "Python 2",
   "language": "python",
   "name": "python2"
  },
  "language_info": {
   "codemirror_mode": {
    "name": "ipython",
    "version": 2
   },
   "file_extension": ".py",
   "mimetype": "text/x-python",
   "name": "python",
   "nbconvert_exporter": "python",
   "pygments_lexer": "ipython2",
   "version": "2.7.10"
  }
 },
 "nbformat": 4,
 "nbformat_minor": 2
}
